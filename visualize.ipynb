{
 "cells": [
  {
   "cell_type": "code",
   "execution_count": null,
   "metadata": {
    "scrolled": true,
    "tags": []
   },
   "outputs": [],
   "source": [
    "%matplotlib notebook\n",
    "import ast\n",
    "import json\n",
    "import numpy as np\n",
    "import pandas as pd\n",
    "import seaborn as sns\n",
    "import matplotlib.pyplot as plt\n",
    "import matplotlib.gridspec as gridspec\n",
    "\n",
    "from itertools import cycle\n",
    "from sklearn import metrics\n",
    "from sklearn.manifold import TSNE\n",
    "from sklearn.decomposition import PCA\n",
    "from sklearn.cluster import KMeans, AffinityPropagation, OPTICS, DBSCAN, cluster_optics_dbscan\n",
    "from gensim.models.keyedvectors import KeyedVectors\n",
    "\n",
    "sns.set_style('darkgrid')"
   ]
  },
  {
   "cell_type": "markdown",
   "metadata": {},
   "source": [
    "# Load data"
   ]
  },
  {
   "cell_type": "code",
   "execution_count": null,
   "metadata": {
    "scrolled": false
   },
   "outputs": [],
   "source": [
    "# Load code vectors and labels\n",
    "with open('./data/output_large.jsonl') as f:\n",
    "    lines = f.read().splitlines()\n",
    "    \n",
    "df_inter = pd.DataFrame(lines)\n",
    "df_inter.columns = ['json_element']\n",
    "df_inter['json_element'].apply(json.loads)\n",
    "df = pd.json_normalize(df_inter['json_element'].apply(json.loads).apply(ast.literal_eval))\n",
    "df"
   ]
  },
  {
   "cell_type": "code",
   "execution_count": null,
   "metadata": {},
   "outputs": [],
   "source": [
    "data = np.array(df.features.values.tolist())"
   ]
  },
  {
   "cell_type": "code",
   "execution_count": null,
   "metadata": {},
   "outputs": [],
   "source": [
    "pca = PCA(n_components=100)\n",
    "pca_result = pca.fit_transform(data)"
   ]
  },
  {
   "cell_type": "code",
   "execution_count": null,
   "metadata": {},
   "outputs": [],
   "source": [
    "print(f\"Cumulative explained variation for {len(pca.explained_variance_ratio_)} principal components: {np.sum(pca.explained_variance_ratio_)}\")\n",
    "plt.figure(figsize=(10,8))\n",
    "plt.plot(np.arange(len(pca.explained_variance_ratio_)), np.cumsum(pca.explained_variance_ratio_))\n",
    "plt.ylim([0, 1])\n",
    "plt.ylabel('Cumulative Explained Variatiance')\n",
    "plt.xlabel('Number of Principal Components')\n",
    "plt.tight_layout()"
   ]
  },
  {
   "cell_type": "markdown",
   "metadata": {},
   "source": [
    "# Visualize the dataset with t-SNE & PCA"
   ]
  },
  {
   "cell_type": "code",
   "execution_count": null,
   "metadata": {
    "scrolled": true
   },
   "outputs": [],
   "source": [
    "# Use to limit the number of samples (if necessary for computational reasons)\n",
    "# rndperm = np.random.permutation(df.shape[0])\n",
    "# N = 10000\n",
    "# df_small = df.loc[rndperm[:N],:].copy()\n",
    "\n",
    "# t-SNE on many different labels\n",
    "tsne2d = TSNE(n_components=2, verbose=1, perplexity=30, n_iter=3000)\n",
    "tsne_result_2d_all = tsne2d.fit_transform(pca_result)\n",
    "\n",
    "tsne3d = TSNE(n_components=3, verbose=1, perplexity=30, n_iter=3000)\n",
    "tsne_result_3d_all = tsne3d.fit_transform(pca_result)"
   ]
  },
  {
   "cell_type": "code",
   "execution_count": null,
   "metadata": {
    "scrolled": false
   },
   "outputs": [],
   "source": [
    "# Try to visualize clusters using t-SNE in 3D\n",
    "fig = plt.figure(figsize=(14,5))\n",
    "ax1 = fig.add_subplot(121, projection='3d')\n",
    "ax1.set_title('Dataset visualized with t-SNE')\n",
    "ax1.scatter(tsne_result_3d_all[:, 0], tsne_result_3d_all[:, 1], tsne_result_3d_all[:, 2], alpha=0.1)\n",
    "\n",
    "ax2 = fig.add_subplot(122, projection='3d')\n",
    "ax2.set_title('Dataset visualized with PCA')\n",
    "ax2.scatter(pca_result[:, 0], pca_result[:, 1], pca_result[:, 2], alpha=0.1)"
   ]
  },
  {
   "cell_type": "markdown",
   "metadata": {},
   "source": [
    "# Attempt k-means clustering on the large dataset\n",
    "Use the Elbow method (sum of square distances between clusters) and silhouette score to try to find a good value for k.\n",
    "\n",
    "## Silhouette Score\n",
    "Meaning of the value\n",
    " - 1: Clusters are well apart/distinguished.\n",
    " - 0: Clusters are indifferent / no meaningful distance between them.\n",
    " - -1: Clusters are assigned in the wrong way"
   ]
  },
  {
   "cell_type": "code",
   "execution_count": null,
   "metadata": {},
   "outputs": [],
   "source": [
    "# Search for a good k\n",
    "sum_of_squared_distances = []\n",
    "silhouette_scores = []\n",
    "K = range(2,50,2)\n",
    "for k in K:\n",
    "    km = KMeans(n_clusters=k, random_state=0)\n",
    "    km = km.fit(pca_result)\n",
    "    sum_of_squared_distances.append(km.inertia_)\n",
    "    silhouette_scores.append(metrics.silhouette_score(pca_result, km.labels_, metric='sqeuclidean'))"
   ]
  },
  {
   "cell_type": "code",
   "execution_count": null,
   "metadata": {},
   "outputs": [],
   "source": [
    "fig = plt.figure(figsize=(14,5))\n",
    "ax1 = fig.add_subplot(121)\n",
    "ax1.set_title('Elbow method for optimal k')\n",
    "ax1.plot(K, sum_of_squared_distances, 'bx-')\n",
    "ax1.set_xlabel('k')\n",
    "ax1.set_ylabel('Sum of squared distances')\n",
    "\n",
    "ax2 = fig.add_subplot(122)\n",
    "ax2.set_title('Silhouette score for optimal k')\n",
    "ax2.plot(K, silhouette_scores, 'bx-')\n",
    "ax2.set_xlabel('k')\n",
    "ax2.set_ylabel('Silhouette Score')"
   ]
  },
  {
   "cell_type": "markdown",
   "metadata": {},
   "source": [
    "# Only consider a set of chosen methods"
   ]
  },
  {
   "cell_type": "code",
   "execution_count": null,
   "metadata": {
    "scrolled": false
   },
   "outputs": [],
   "source": [
    "# Randomly select k frequently occuring labels to consider for analysis\n",
    "# k = 5\n",
    "# Only consider labels that are \"frequently\" occuring\n",
    "# df_subset = df[(df['count'] >= 100) & (df['count'] <= 3000)]\n",
    "# np.random.seed(20) #31\n",
    "# cats = np.random.choice(df_subset.label.unique(), size=k, replace=False)\n",
    "# df_subset = df_subset[df_subset.label.isin(cats)]\n",
    "\n",
    "# manually choose\n",
    "cats = ['predict', 'train', 'update', 'preprocess', 'save', 'transform']\n",
    "k = len(cats)\n",
    "df_subset = df[df.method_name.isin(cats)]\n",
    "\n",
    "# Assign numerical values for each category\n",
    "df_subset.method_name = pd.Categorical(df_subset.method_name)\n",
    "df_subset['category'] = df_subset.method_name.cat.codes\n",
    "unique_labels = dict( enumerate(df_subset['method_name'].cat.categories ) )\n",
    "print(f\"Unique labels:{unique_labels}\\nNumber of samples {len(df_subset)}\")\n",
    "\n",
    "# Use to limit the number of samples (if necessary for computational reasons)\n",
    "# rndperm = np.random.permutation(df.shape[0])\n",
    "# N = 10000\n",
    "# df_subset = df_subset.loc[rndperm[:N],:].copy()\n",
    "\n",
    "data_subset = np.array(df_subset.features.values.tolist())"
   ]
  },
  {
   "cell_type": "markdown",
   "metadata": {},
   "source": [
    "## Check for similarities and analogies"
   ]
  },
  {
   "cell_type": "code",
   "execution_count": null,
   "metadata": {
    "scrolled": true
   },
   "outputs": [],
   "source": [
    "df_subset.sort_values('category').groupby('method_name').first()"
   ]
  },
  {
   "cell_type": "code",
   "execution_count": null,
   "metadata": {
    "scrolled": true
   },
   "outputs": [],
   "source": [
    "# Try to identify any similarities in code vectors\n",
    "word1 = 'save'\n",
    "word2 = 'transform'\n",
    "# Calculate cosine similarity between code vectors that represent different methods\n",
    "cosine_similarities = metrics.pairwise.cosine_similarity(np.array(df_subset[df_subset['method_name'] == word1].features.values.tolist()), np.array(df_subset[df_subset['method_name'] == word2].features.values.tolist()))\n",
    "pd.DataFrame(cosine_similarities).describe()"
   ]
  },
  {
   "cell_type": "markdown",
   "metadata": {},
   "source": [
    "## PCA"
   ]
  },
  {
   "cell_type": "code",
   "execution_count": null,
   "metadata": {
    "scrolled": false
   },
   "outputs": [],
   "source": [
    "pca = PCA(n_components=100)\n",
    "pca_result = pca.fit_transform(data_subset)\n",
    "\n",
    "print(f\"Cumulative explained variation for {len(pca.explained_variance_ratio_)} principal components: {np.sum(pca.explained_variance_ratio_)}\")\n",
    "plt.figure(figsize=(10,8))\n",
    "plt.plot(np.arange(len(pca.explained_variance_ratio_)), np.cumsum(pca.explained_variance_ratio_))\n",
    "plt.ylim([0, 1])\n",
    "plt.ylabel('Cumulative Explained Variatiance')\n",
    "plt.xlabel('Number of Principal Components')\n",
    "plt.tight_layout()"
   ]
  },
  {
   "cell_type": "markdown",
   "metadata": {},
   "source": [
    "## t-SNE"
   ]
  },
  {
   "cell_type": "code",
   "execution_count": null,
   "metadata": {
    "scrolled": true
   },
   "outputs": [],
   "source": [
    "# t-SNE\n",
    "tsne2d = TSNE(n_components=2, verbose=1, perplexity=30, n_iter=3000)\n",
    "tsne_result_2d = tsne2d.fit_transform(pca_result)\n",
    "\n",
    "tsne3d = TSNE(n_components=3, verbose=1, perplexity=30, n_iter=3000)\n",
    "tsne_result_3d = tsne3d.fit_transform(pca_result)"
   ]
  },
  {
   "cell_type": "markdown",
   "metadata": {},
   "source": [
    "## Agglomerative Clustering"
   ]
  },
  {
   "cell_type": "code",
   "execution_count": null,
   "metadata": {},
   "outputs": [],
   "source": [
    "def plot_clustering(data, labels, title=None):\n",
    "    fig = plt.figure(figsize=(14,5))\n",
    "    fig.suptitle('Visualizing clusters with t-SNE (3D)')\n",
    "    ax1 = fig.add_subplot(121)\n",
    "    ax1.set_title(f'Agglomerative Clusters (k={k})')\n",
    "    colors = cycle('bgrcmykbgrcmykbgrcmykbgrcmyk')\n",
    "    for klass, color in zip(range(0, k), colors):\n",
    "        Xk = tsne_result_3d[labels == klass]\n",
    "        ax1.scatter(Xk[:, 0], Xk[:, 1], Xk[:, 2], c=color, alpha=0.3, label=unique_labels[klass])\n",
    "        \n",
    "    ax2 = fig.add_subplot(122)\n",
    "    ax2.set_title('True labels')\n",
    "    colors = cycle('bgrcmykbgrcmykbgrcmykbgrcmyk')\n",
    "    for klass, color in zip(range(0, k), colors):\n",
    "        Xk = tsne_result_3d[df_subset['category'] == klass]\n",
    "        ax2.scatter(Xk[:, 0], Xk[:, 1], Xk[:, 2], c=color, alpha=0.3, label=unique_labels[klass])\n",
    "\n",
    "    ax2.legend()"
   ]
  },
  {
   "cell_type": "code",
   "execution_count": null,
   "metadata": {
    "scrolled": false
   },
   "outputs": [],
   "source": [
    "# Agglomerative (hierarchical) clustering\n",
    "from time import time\n",
    "from sklearn.cluster import AgglomerativeClustering\n",
    "clustering = AgglomerativeClustering(linkage='ward', n_clusters=k)\n",
    "clustering.fit(pca_result)\n",
    "plot_clustering(data_subset, clustering.labels_, \"%s linkage\" % linkage)"
   ]
  },
  {
   "cell_type": "code",
   "execution_count": null,
   "metadata": {},
   "outputs": [],
   "source": [
    "# Visualize with kepler map\n",
    "import kmapper as km\n",
    "mapper = km.KeplerMapper(verbose=2)\n",
    "\n",
    "# Fit and transform data, use TSNE \n",
    "projected_data = mapper.fit_transform(data_subset, projection=TSNE())\n",
    "\n",
    "# Create the graph (we cluster on the projected data and suffer projection loss)\n",
    "graph = mapper.map(\n",
    "    projected_data,\n",
    "    clusterer=AgglomerativeClustering(linkage='ward', n_clusters=k),\n",
    "    cover=km.Cover(35, 0.4),\n",
    ")"
   ]
  },
  {
   "cell_type": "code",
   "execution_count": null,
   "metadata": {},
   "outputs": [],
   "source": [
    "# Create the visualizations (increased the graph_gravity for a tighter graph-look.)\n",
    "print(\"Output graph examples to html\")\n",
    "# Tooltips with image data for every cluster member\n",
    "mapper.visualize(\n",
    "    graph,\n",
    "    title=\"Method Name Mapper\",\n",
    "    path_html=\"./method_names.html\",\n",
    "    color_values=df_subset['category'].values,\n",
    ")"
   ]
  },
  {
   "cell_type": "code",
   "execution_count": null,
   "metadata": {},
   "outputs": [],
   "source": [
    "# Tooltips with the target y-labels for every cluster member\n",
    "mapper.visualize(\n",
    "    graph,\n",
    "    title=\"Method Name Mapper\",\n",
    "    path_html=\"./method_names_tooltips.html\",\n",
    "    custom_tooltips=df_subset['category'].values,\n",
    ")"
   ]
  },
  {
   "cell_type": "code",
   "execution_count": null,
   "metadata": {},
   "outputs": [],
   "source": [
    "km.draw_matplotlib(graph, layout=\"spring\")\n",
    "plt.show()"
   ]
  },
  {
   "cell_type": "markdown",
   "metadata": {},
   "source": [
    "# K-means Clustering and Visualization with t-SNE & PCA\n",
    "Here we have selected a subset of methods, using their name as the label and try to cluster by their code vector representations."
   ]
  },
  {
   "cell_type": "code",
   "execution_count": null,
   "metadata": {
    "scrolled": false
   },
   "outputs": [],
   "source": [
    "# Apply K-means\n",
    "kmeans = KMeans(n_clusters=k, random_state=0).fit(data_subset)\n",
    "\n",
    "print('Number of clusters: %d' % k)\n",
    "print(\"Homogeneity: %0.3f\" % metrics.homogeneity_score(df_subset['category'], kmeans.labels_))\n",
    "print(\"Completeness: %0.3f\" % metrics.completeness_score(df_subset['category'], kmeans.labels_))\n",
    "print(\"V-measure: %0.3f\" % metrics.v_measure_score(df_subset['category'], kmeans.labels_))\n",
    "print(\"Adjusted Rand Index: %0.3f\"\n",
    "      % metrics.adjusted_rand_score(df_subset['category'], kmeans.labels_))\n",
    "print(\"Adjusted Mutual Information: %0.3f\"\n",
    "      % metrics.adjusted_mutual_info_score(df_subset['category'], kmeans.labels_))\n",
    "print(\"Silhouette Coefficient: %0.3f\"\n",
    "      % metrics.silhouette_score(data_subset, kmeans.labels_, metric='sqeuclidean'))\n",
    "\n",
    "\n",
    "# Try to visualize clusters using PCA\n",
    "fig = plt.figure(figsize=(14,5))\n",
    "fig.suptitle('Visualizing clusters with PCA')\n",
    "ax1 = fig.add_subplot(121, projection='3d')\n",
    "ax1.set_title(f'K-means Clusters (k={k})')\n",
    "colors = cycle('bgrcmykbgrcmykbgrcmykbgrcmyk')\n",
    "for klass, color in zip(range(0, k), colors):\n",
    "    Xk = pca_result[kmeans.labels_ == klass]\n",
    "    ax1.scatter(Xk[:, 0], Xk[:, 1], Xk[:, 2], c=color, alpha=0.3)\n",
    "\n",
    "ax2 = fig.add_subplot(122, projection='3d')\n",
    "ax2.set_title('True labels')\n",
    "colors = cycle('bgrcmykbgrcmykbgrcmykbgrcmyk')\n",
    "for klass, color in zip(range(0, k), colors):\n",
    "    Xk = pca_result[df_subset['category'] == klass]\n",
    "    ax2.scatter(Xk[:, 0], Xk[:, 1], Xk[:, 2], c=color, alpha=0.3, label=unique_labels[klass])\n",
    "\n",
    "ax2.legend()\n",
    "\n",
    "# Try to visualize clusters using t-SNE in 3D\n",
    "fig = plt.figure(figsize=(14,5))\n",
    "fig.suptitle('Visualizing clusters with t-SNE (3D)')\n",
    "ax1 = fig.add_subplot(121, projection='3d')\n",
    "ax1.set_title(f'K-means Clusters (k={k})')\n",
    "colors = cycle('bgrcmykbgrcmykbgrcmykbgrcmyk')\n",
    "for klass, color in zip(range(0, k), colors):\n",
    "    Xk = tsne_result_3d[kmeans.labels_ == klass]\n",
    "    ax1.scatter(Xk[:, 0], Xk[:, 1], Xk[:, 2], c=color, alpha=0.3, label=unique_labels[klass])\n",
    "\n",
    "\n",
    "ax2 = fig.add_subplot(122, projection='3d')\n",
    "ax2.set_title('True labels')\n",
    "colors = cycle('bgrcmykbgrcmykbgrcmykbgrcmyk')\n",
    "for klass, color in zip(range(0, k), colors):\n",
    "    Xk = tsne_result_3d[df_subset['category'] == klass]\n",
    "    ax2.scatter(Xk[:, 0], Xk[:, 1], Xk[:, 2], c=color, alpha=0.3, label=unique_labels[klass])\n",
    "\n",
    "ax2.legend()\n",
    "\n",
    "# Try to visualize clusters using t-SNE in 2D\n",
    "fig = plt.figure(figsize=(14,5))\n",
    "fig.suptitle('Visualizing clusters with t-SNE (2D)')\n",
    "ax1 = fig.add_subplot(121)\n",
    "ax1.set_title(f'K-means Clusters (k={k})')\n",
    "colors = cycle('bgrcmykbgrcmykbgrcmykbgrcmyk')\n",
    "for klass, color in zip(range(0, k), colors):\n",
    "    Xk = tsne_result_2d[kmeans.labels_ == klass]\n",
    "    ax1.scatter(Xk[:, 0], Xk[:, 1], c=color, alpha=0.3, label=unique_labels[klass])\n",
    "\n",
    "\n",
    "ax2 = fig.add_subplot(122)\n",
    "ax2.set_title('True labels')\n",
    "colors = cycle('bgrcmykbgrcmykbgrcmykbgrcmyk')\n",
    "for klass, color in zip(range(0, k), colors):\n",
    "    Xk = tsne_result_2d[df_subset['category'] == klass]\n",
    "    ax2.scatter(Xk[:, 0], Xk[:, 1], c=color, alpha=0.3, label=unique_labels[klass])\n",
    "    \n",
    "ax2.legend()"
   ]
  },
  {
   "cell_type": "code",
   "execution_count": null,
   "metadata": {
    "scrolled": false
   },
   "outputs": [],
   "source": [
    "# Apply OPTICS algorithm\n",
    "eps = [0.00, 0.05]\n",
    "model = OPTICS(cluster_method='xi', min_samples=10, metric='cosine')\n",
    "model.fit(data_subset)\n",
    "\n",
    "labels_eps0 = cluster_optics_dbscan(reachability=model.reachability_,\n",
    "                                   core_distances=model.core_distances_,\n",
    "                                   ordering=model.ordering_, eps=eps[0])\n",
    "labels_eps1 = cluster_optics_dbscan(reachability=model.reachability_,\n",
    "                                   core_distances=model.core_distances_,\n",
    "                                   ordering=model.ordering_, eps=eps[1])\n",
    "\n",
    "space = np.arange(len(data_subset))\n",
    "reachability = model.reachability_[model.ordering_]\n",
    "optics_labels = model.labels_[model.ordering_]\n",
    "\n",
    "\n",
    "print(f'{\"-\"*10} METRICS FOR OPTICS {\"-\"*10}')\n",
    "print('Number of clusters: %d' % len(model.cluster_hierarchy_))\n",
    "print(\"Homogeneity: %0.3f\" % metrics.homogeneity_score(df_subset['category'], optics_labels))\n",
    "print(\"Completeness: %0.3f\" % metrics.completeness_score(df_subset['category'], optics_labels))\n",
    "print(\"V-measure: %0.3f\" % metrics.v_measure_score(df_subset['category'], optics_labels))\n",
    "print(\"Adjusted Rand Index: %0.3f\"\n",
    "      % metrics.adjusted_rand_score(df_subset['category'], optics_labels))\n",
    "print(\"Adjusted Mutual Information: %0.3f\"\n",
    "      % metrics.adjusted_mutual_info_score(df_subset['category'], optics_labels))\n",
    "if (len(model.cluster_hierarchy_) > 1):\n",
    "    print(\"Silhouette Coefficient: %0.3f\"\n",
    "          % metrics.silhouette_score(data_subset, optics_labels, metric='sqeuclidean'))\n",
    "\n",
    "print(f'{\"-\"*10} METRICS FOR DBSCAN EPS {eps[0]} {\"-\"*10}')\n",
    "print('Number of clusters: %d' % len(np.unique(labels_eps0[labels_eps0 > -1])))\n",
    "print(\"Homogeneity: %0.3f\" % metrics.homogeneity_score(df_subset['category'], labels_eps0))\n",
    "print(\"Completeness: %0.3f\" % metrics.completeness_score(df_subset['category'], labels_eps0))\n",
    "print(\"V-measure: %0.3f\" % metrics.v_measure_score(df_subset['category'], labels_eps0))\n",
    "print(\"Adjusted Rand Index: %0.3f\"\n",
    "      % metrics.adjusted_rand_score(df_subset['category'], labels_eps0))\n",
    "print(\"Adjusted Mutual Information: %0.3f\"\n",
    "      % metrics.adjusted_mutual_info_score(df_subset['category'], labels_eps0))\n",
    "if (len(np.unique(labels_eps0[labels_eps0 > -1])) > 1):\n",
    "    print(\"Silhouette Coefficient: %0.3f\"\n",
    "          % metrics.silhouette_score(data_subset, labels_eps0, metric='sqeuclidean'))\n",
    "\n",
    "print(f'{\"-\"*10} METRICS FOR DBSCAN EPS {eps[1]} {\"-\"*10}')\n",
    "print('Number of clusters: %d' % len(np.unique(labels_eps1[labels_eps1 > -1])))\n",
    "print(\"Homogeneity: %0.3f\" % metrics.homogeneity_score(df_subset['category'], labels_eps1))\n",
    "print(\"Completeness: %0.3f\" % metrics.completeness_score(df_subset['category'], labels_eps1))\n",
    "print(\"V-measure: %0.3f\" % metrics.v_measure_score(df_subset['category'], labels_eps1))\n",
    "print(\"Adjusted Rand Index: %0.3f\"\n",
    "      % metrics.adjusted_rand_score(df_subset['category'], labels_eps1))\n",
    "print(\"Adjusted Mutual Information: %0.3f\"\n",
    "      % metrics.adjusted_mutual_info_score(df_subset['category'], labels_eps1))\n",
    "if (len(np.unique(labels_eps1[labels_eps1 > -1])) > 1):\n",
    "    print(\"Silhouette Coefficient: %0.3f\"\n",
    "          % metrics.silhouette_score(data_subset, labels_eps1, metric='sqeuclidean'))\n",
    "\n",
    "\n",
    "labels = ['N/A']\n",
    "for val in unique_labels.values():\n",
    "    labels.append(val)\n",
    "\n",
    "# Reachability plot\n",
    "plt.figure(figsize=(10, 5))\n",
    "plt.suptitle('Reachability Plot')\n",
    "colors = cycle('bgrcmykbgrcmykbgrcmykbgrcmyk')\n",
    "for klass, color in zip(range(0, len(model.cluster_hierarchy_)), colors):\n",
    "    Xk = space[optics_labels == klass]\n",
    "    Rk = reachability[optics_labels == klass]\n",
    "    plt.plot(Xk, Rk, color, alpha=0.3)\n",
    "plt.plot(space[optics_labels == -1], reachability[optics_labels == -1], 'k.', alpha=0.3)\n",
    "plt.plot(space, np.full_like(space, eps[0], dtype=float), 'k-.', alpha=0.5)\n",
    "plt.plot(space, np.full_like(space, eps[1], dtype=float), 'k-', alpha=0.5)\n",
    "plt.ylabel('Reachability (epsilon distance)')\n",
    "\n",
    "\n",
    "\n",
    "# Scatter plots\n",
    "fig = plt.figure(figsize=(14, 10))\n",
    "ax1 = fig.add_subplot(221, projection='3d')\n",
    "ax1.set_title('Automatic Clustering\\nOPTICS')\n",
    "colors = cycle('bgrcmykbgrcmykbgrcmykbgrcmyk')\n",
    "ax1.scatter(pca_result[:, 0], pca_result[:, 1], pca_result[:, 2], c='k', marker='+', alpha=0.1)\n",
    "for klass, color in zip(range(0, len(model.cluster_hierarchy_)), colors):\n",
    "    Xk = pca_result[optics_labels == klass]\n",
    "    ax1.scatter(Xk[:, 0], Xk[:, 1], Xk[:, 2], c=color, alpha=0.3)\n",
    "    \n",
    "ax2 = fig.add_subplot(222, projection='3d')\n",
    "ax2.set_title(f'Clustering at {eps[0]} epsilon cut\\nDBSCAN')\n",
    "colors = cycle('bgrcmykbgrcmykbgrcmykbgrcmyk')\n",
    "ax2.scatter(pca_result[:, 0], pca_result[:, 1], pca_result[:, 2], c='k', marker='+', alpha=0.1)\n",
    "for klass, color in zip(range(0, len(np.unique(labels_eps0))), colors):\n",
    "    Xk = pca_result[labels_eps0 == klass]\n",
    "    ax2.scatter(Xk[:, 0], Xk[:, 1], Xk[:, 2], c=color, alpha=0.3)\n",
    "    \n",
    "\n",
    "ax3 = fig.add_subplot(223, projection='3d')\n",
    "ax3.set_title(f'Clustering at {eps[1]} epsilon cut\\nDBSCAN')\n",
    "colors = cycle('bgrcmykbgrcmykbgrcmykbgrcmyk')\n",
    "ax3.scatter(pca_result[:, 0], pca_result[:, 1], pca_result[:, 2], c='k', marker='+', alpha=0.1)\n",
    "for klass, color in zip(range(0, len(np.unique(labels_eps1))), colors):\n",
    "    Xk = pca_result[labels_eps1 == klass]\n",
    "    ax3.scatter(Xk[:, 0], Xk[:, 1], Xk[:, 2], c=color, alpha=0.3)\n",
    "\n",
    "\n",
    "ax4 = fig.add_subplot(224, projection='3d')\n",
    "ax4.set_title('True Labels')\n",
    "colors = cycle('bgrcmykbgrcmykbgrcmykbgrcmyk')\n",
    "for klass, color in zip(range(0, k), colors):\n",
    "    Xk = pca_result[df_subset['category'] == klass]\n",
    "    ax4.scatter(Xk[:, 0], Xk[:, 1], Xk[:, 2], c=color, alpha=0.3, label=unique_labels[klass])\n",
    "ax4.legend()\n",
    "plt.tight_layout()"
   ]
  },
  {
   "cell_type": "markdown",
   "metadata": {},
   "source": [
    "## OPTICS with t-SNE (2D)"
   ]
  },
  {
   "cell_type": "code",
   "execution_count": null,
   "metadata": {},
   "outputs": [],
   "source": [
    "# Scatter plots\n",
    "fig = plt.figure(figsize=(14, 10))\n",
    "ax1 = fig.add_subplot(221)\n",
    "ax1.set_title('Automatic Clustering\\nOPTICS')\n",
    "colors = cycle('bgrcmykbgrcmykbgrcmykbgrcmyk')\n",
    "ax1.scatter(tsne_result_2d[:, 0], tsne_result_2d[:, 1], c='k', marker='+', alpha=0.1)\n",
    "for klass, color in zip(range(0, len(model.cluster_hierarchy_)), colors):\n",
    "    Xk = tsne_result_2d[optics_labels == klass]\n",
    "    ax1.scatter(Xk[:, 0], Xk[:, 1], c=color, alpha=0.3)\n",
    "    \n",
    "ax2 = fig.add_subplot(222)\n",
    "ax2.set_title(f'Clustering at {eps[0]} epsilon cut\\nDBSCAN')\n",
    "colors = cycle('bgrcmykbgrcmykbgrcmykbgrcmyk')\n",
    "ax2.scatter(tsne_result_2d[:, 0], tsne_result_2d[:, 1], c='k', marker='+', alpha=0.1)\n",
    "for klass, color in zip(range(0, k), colors):\n",
    "    Xk = tsne_result_2d[labels_eps0 == klass]\n",
    "    ax2.scatter(Xk[:, 0], Xk[:, 1], c=color, alpha=0.3)\n",
    "    \n",
    "\n",
    "ax3 = fig.add_subplot(223)\n",
    "ax3.set_title(f'Clustering at {eps[1]} epsilon cut\\nDBSCAN')\n",
    "colors = cycle('bgrcmykbgrcmykbgrcmykbgrcmyk')\n",
    "ax3.scatter(tsne_result_2d[:, 0], tsne_result_2d[:, 1], c='k', marker='+', alpha=0.1)\n",
    "for klass, color in zip(range(0, k), colors):\n",
    "    Xk = tsne_result_2d[labels_eps1 == klass]\n",
    "    ax3.scatter(Xk[:, 0], Xk[:, 1], c=color, alpha=0.3)\n",
    "\n",
    "\n",
    "ax4 = fig.add_subplot(224)\n",
    "ax4.set_title('True Labels')\n",
    "colors = cycle('bgrcmykbgrcmykbgrcmykbgrcmyk')\n",
    "for klass, color in zip(range(0, k), colors):\n",
    "    Xk = tsne_result_2d[df_subset['category'] == klass]\n",
    "    ax4.scatter(Xk[:, 0], Xk[:, 1], c=color, alpha=0.3, label=unique_labels[klass])\n",
    "ax4.legend()\n",
    "plt.tight_layout()"
   ]
  },
  {
   "cell_type": "code",
   "execution_count": null,
   "metadata": {},
   "outputs": [],
   "source": []
  }
 ],
 "metadata": {
  "kernelspec": {
   "display_name": "Python (scc)",
   "language": "python",
   "name": "scc"
  },
  "language_info": {
   "codemirror_mode": {
    "name": "ipython",
    "version": 3
   },
   "file_extension": ".py",
   "mimetype": "text/x-python",
   "name": "python",
   "nbconvert_exporter": "python",
   "pygments_lexer": "ipython3",
   "version": "3.8.8"
  }
 },
 "nbformat": 4,
 "nbformat_minor": 2
}